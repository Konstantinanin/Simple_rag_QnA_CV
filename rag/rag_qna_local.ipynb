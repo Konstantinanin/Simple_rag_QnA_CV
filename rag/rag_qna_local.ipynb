{
 "cells": [
  {
   "cell_type": "code",
   "execution_count": 28,
   "id": "1206ac46-a523-4662-af61-cddedaae7388",
   "metadata": {},
   "outputs": [],
   "source": [
    "import fitz  # PyMuPDF\n",
    "from pathlib import Path\n",
    "import faiss\n",
    "import numpy as np\n",
    "from sentence_transformers import SentenceTransformer\n",
    "import requests\n",
    "import os\n",
    "import sys\n",
    "from langchain.text_splitter import RecursiveCharacterTextSplitter"
   ]
  },
  {
   "cell_type": "code",
   "execution_count": 35,
   "id": "aa65ddd6-3628-422a-ac1e-1b0ace13bcda",
   "metadata": {},
   "outputs": [],
   "source": [
    "BASE_DIR = Path().resolve()n",
    "PDF_PATH = BASE_DIR / \"rag\" / \"data\" / \"KonstantinaCV.pdf\"\n",
    "TOP_K = 3\n"
   ]
  },
  {
   "cell_type": "code",
   "execution_count": 36,
   "id": "8327a734-f67c-4ff6-bad8-0045b32656ea",
   "metadata": {},
   "outputs": [],
   "source": [
    "# turns pdf into chunks\n",
    "def extract_text_from_pdf(path):\n",
    "    doc = fitz.open(path)\n",
    "    all_text = \"\\n\".join(page.get_text() for page in doc)\n",
    "\n",
    "    # Smart text splitting\n",
    "    text_splitter = RecursiveCharacterTextSplitter(\n",
    "        chunk_size=300,\n",
    "        chunk_overlap=30,\n",
    "        separators=[\"\\n\\n\", \"\\n\", \".\", \" \"]\n",
    "    )\n",
    "    chunks = text_splitter.split_text(all_text)\n",
    "    return chunks\n"
   ]
  },
  {
   "cell_type": "code",
   "execution_count": 37,
   "id": "117e2cc7-879e-4ffa-8a34-0f1e35515eff",
   "metadata": {},
   "outputs": [],
   "source": [
    "# indexes vectored chunks \n",
    "def build_faiss_index(chunks, model):\n",
    "    embeddings = model.encode(chunks)\n",
    "    index = faiss.IndexFlatL2(embeddings.shape[1])\n",
    "    index.add(np.array(embeddings))\n",
    "    return index, embeddings\n",
    "    \n",
    "# retrieves the 3 most relevant chunks based on an vectored input query\n",
    "def retrieve_relevant_chunks(query, model, chunks, index, top_k=3):\n",
    "    query_embedding = model.encode([query])\n",
    "    D, I = index.search(np.array(query_embedding), top_k)\n",
    "    return [chunks[i] for i in I[0]]\n"
   ]
  },
  {
   "cell_type": "code",
   "execution_count": 38,
   "id": "9c7a4e42-3ea2-48a6-9a30-2c8d0a6566e9",
   "metadata": {},
   "outputs": [],
   "source": [
    "##calls ollama hosted model mistral using a prompt\n",
    "def ask_ollama(context, question, model_name=\"mistral\"):\n",
    "    prompt = f\"Answer playfully the question based on the following context:\\n\\n{context}\\n\\nQuestion: {question}\\nAnswer:\"\n",
    "    response = requests.post(\n",
    "        \"http://localhost:11434/api/generate\",\n",
    "        json={\"model\": model_name, \"prompt\": prompt, \"stream\": False}\n",
    "    )\n",
    "    return response.json()[\"response\"]\n"
   ]
  },
  {
   "cell_type": "code",
   "execution_count": 39,
   "id": "80419df3-f863-4035-91cc-d9c621330044",
   "metadata": {},
   "outputs": [
    {
     "name": "stdout",
     "output_type": "stream",
     "text": [
      "ready to ask questions\n"
     ]
    }
   ],
   "source": [
    "##loading PDF and preparing data\n",
    "chunks = extract_text_from_pdf(PDF_PATH)\n",
    "\n",
    "##embedding chunks\n",
    "embed_model = SentenceTransformer('all-MiniLM-L6-v2')\n",
    "index, _ = build_faiss_index(chunks, embed_model)\n",
    "\n",
    "print(\"ready to ask questions\")\n"
   ]
  },
  {
   "cell_type": "code",
   "execution_count": 40,
   "id": "e94f1335-4771-4099-9b45-b935d3177456",
   "metadata": {},
   "outputs": [
    {
     "name": "stdout",
     "output_type": "stream",
     "text": [
      " Konstantina Antonopoulou speaks English (C2), Greek (C2), Spanish (C1) and German (B2-C1). She's a multilingual NLP expert!\n"
     ]
    }
   ],
   "source": [
    "question = \"What languages does she speak and what level\"\n",
    "context = \"\\n\\n\".join(retrieve_relevant_chunks(question, embed_model, chunks, index, TOP_K))\n",
    "answer = ask_ollama(context, question)\n",
    "print(answer)\n"
   ]
  },
  {
   "cell_type": "code",
   "execution_count": null,
   "id": "84cd8c1c-472c-4d11-b20f-8d656b50d71d",
   "metadata": {},
   "outputs": [],
   "source": []
  }
 ],
 "metadata": {
  "kernelspec": {
   "display_name": "Python 3 (ipykernel)",
   "language": "python",
   "name": "python3"
  },
  "language_info": {
   "codemirror_mode": {
    "name": "ipython",
    "version": 3
   },
   "file_extension": ".py",
   "mimetype": "text/x-python",
   "name": "python",
   "nbconvert_exporter": "python",
   "pygments_lexer": "ipython3",
   "version": "3.12.2"
  }
 },
 "nbformat": 4,
 "nbformat_minor": 5
}
